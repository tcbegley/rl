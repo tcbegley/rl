{
 "cells": [
  {
   "cell_type": "markdown",
   "id": "ed75af4d-519c-4afa-b0f4-3238566fc700",
   "metadata": {},
   "source": [
    "Typical PPO loop should look something like\n",
    "\n",
    "```python\n",
    "for data in collector:\n",
    "    for epoch in range(n_epochs):\n",
    "        advantage(data)\n",
    "        replay_buffer.extend(data)\n",
    "        for batch in replay_buffer:\n",
    "            loss = ppo_loss(batch)  \n",
    "            loss.backward()\n",
    "            optim.step()\n",
    "```"
   ]
  },
  {
   "cell_type": "code",
   "execution_count": 1,
   "id": "4313a8b0-e9b9-4685-a8bf-59bfc049a06d",
   "metadata": {},
   "outputs": [
    {
     "name": "stderr",
     "output_type": "stream",
     "text": [
      "/fsx/users/tcbegley/conda/envs/rl-stable/lib/python3.10/site-packages/tqdm/auto.py:21: TqdmWarning: IProgress not found. Please update jupyter and ipywidgets. See https://ipywidgets.readthedocs.io/en/stable/user_install.html\n",
      "  from .autonotebook import tqdm as notebook_tqdm\n"
     ]
    }
   ],
   "source": [
    "from torchrl.objectives import ClipPPOLoss\n",
    "\n",
    "from data import get_prompt_dataloaders\n",
    "from models.actor_critic import init_actor_critic\n",
    "from models.reward import init_reward_model\n",
    "from models.transformer import init_transformer\n",
    "from utils import load_config"
   ]
  },
  {
   "cell_type": "code",
   "execution_count": 2,
   "id": "b985a3d1-996e-47d7-9c10-881a4bd54bec",
   "metadata": {},
   "outputs": [],
   "source": [
    "config = load_config(\"config/train_rlhf.yaml\")"
   ]
  },
  {
   "cell_type": "code",
   "execution_count": 3,
   "id": "36d82041-9809-474d-9523-60008d75c301",
   "metadata": {},
   "outputs": [
    {
     "name": "stdout",
     "output_type": "stream",
     "text": [
      "compiling the model... (takes a ~minute)\n"
     ]
    }
   ],
   "source": [
    "model = init_transformer(config, inference=True)"
   ]
  },
  {
   "cell_type": "code",
   "execution_count": 4,
   "id": "515be944-79d1-4194-a2b9-b6649c5fbdd7",
   "metadata": {},
   "outputs": [
    {
     "name": "stdout",
     "output_type": "stream",
     "text": [
      "compiling the model... (takes a ~minute)\n"
     ]
    }
   ],
   "source": [
    "reward_model = init_reward_model(config)"
   ]
  },
  {
   "cell_type": "code",
   "execution_count": 5,
   "id": "8f2d2687-0471-481c-9a01-0599ac05fc43",
   "metadata": {},
   "outputs": [],
   "source": [
    "actor, critic, critic_head = init_actor_critic(config)"
   ]
  },
  {
   "cell_type": "code",
   "execution_count": 6,
   "id": "875af493-f621-4607-b37f-f8fbc5b59ab0",
   "metadata": {},
   "outputs": [],
   "source": [
    "loss_fn = ClipPPOLoss(actor, critic_head)"
   ]
  },
  {
   "cell_type": "code",
   "execution_count": 7,
   "id": "ffcd009a-d251-4c14-a56e-58312c5eebe7",
   "metadata": {},
   "outputs": [],
   "source": [
    "tdl, _ = get_prompt_dataloaders(config)"
   ]
  },
  {
   "cell_type": "code",
   "execution_count": null,
   "id": "1e4a1850-9827-4df3-9c2b-38692312ec04",
   "metadata": {},
   "outputs": [],
   "source": [
    "for _ in range(config[\"max_iters\"]):\n",
    "    # form batch\n",
    "    batch = next(tdl)\n",
    "    # perhaps data = torch.stack([next(tdl) for _ in range(...)])?\n",
    "    for epoch in range(config[\"num_epochs\"]):\n",
    "        reward = reward_model(batch.pr"
   ]
  },
  {
   "cell_type": "code",
   "execution_count": 8,
   "id": "f8114bc7-e49d-4b44-b20c-85030851b550",
   "metadata": {},
   "outputs": [
    {
     "data": {
      "text/plain": [
       "{'episode_length': 50,\n",
       " 'out_dir': 'out',\n",
       " 'out_dir_reward': 'out_reward',\n",
       " 'eval_interval': 2,\n",
       " 'log_interval': 2,\n",
       " 'eval_iters': 100,\n",
       " 'always_save_checkpoint': True,\n",
       " 'base_model': 'gpt2',\n",
       " 'init_reward_from': 'resume',\n",
       " 'init_base_from': 'resume',\n",
       " 'dataset': 'openai_summarize_comparisons',\n",
       " 'gradient_accumulation_steps': 1,\n",
       " 'batch_size': 4,\n",
       " 'block_size': 550,\n",
       " 'dropout': 0.0,\n",
       " 'learning_rate': 5e-06,\n",
       " 'max_iters': 3000,\n",
       " 'weight_decay': 0.01,\n",
       " 'beta1': 0.9,\n",
       " 'beta2': 0.999,\n",
       " 'grad_clip': 10.0,\n",
       " 'decay_lr': True,\n",
       " 'warmup_iters': 20,\n",
       " 'lr_decay_iters': 3000,\n",
       " 'min_lr': 5e-07,\n",
       " 'device': 'cuda',\n",
       " 'dtype': 'bfloat16',\n",
       " 'compile': True,\n",
       " 'verbose': False,\n",
       " 'ppo_batch_size': 16,\n",
       " 'num_epochs': 4}"
      ]
     },
     "execution_count": 8,
     "metadata": {},
     "output_type": "execute_result"
    }
   ],
   "source": [
    "config"
   ]
  },
  {
   "cell_type": "code",
   "execution_count": null,
   "id": "b01284ac-5e29-43bf-8efe-da04133129dc",
   "metadata": {},
   "outputs": [],
   "source": [
    "batch = next(tdl)"
   ]
  },
  {
   "cell_type": "code",
   "execution_count": null,
   "id": "62a1dfa7-8d52-4ce2-b03d-f3c587f3250d",
   "metadata": {},
   "outputs": [],
   "source": [
    "batch"
   ]
  },
  {
   "cell_type": "code",
   "execution_count": null,
   "id": "f055fc15-e551-44eb-8c3d-93eef09df4e6",
   "metadata": {},
   "outputs": [],
   "source": [
    "reward_model(batch.transformer_data.input_ids, batch.transformer_data.attention_mask)"
   ]
  },
  {
   "cell_type": "code",
   "execution_count": null,
   "id": "51f5d451-4a77-4ddd-96fb-307a13ece666",
   "metadata": {},
   "outputs": [],
   "source": []
  }
 ],
 "metadata": {
  "kernelspec": {
   "display_name": "Python 3 (ipykernel)",
   "language": "python",
   "name": "python3"
  },
  "language_info": {
   "codemirror_mode": {
    "name": "ipython",
    "version": 3
   },
   "file_extension": ".py",
   "mimetype": "text/x-python",
   "name": "python",
   "nbconvert_exporter": "python",
   "pygments_lexer": "ipython3",
   "version": "3.10.11"
  }
 },
 "nbformat": 4,
 "nbformat_minor": 5
}
