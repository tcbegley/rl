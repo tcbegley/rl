{
 "cells": [
  {
   "cell_type": "code",
   "execution_count": 1,
   "id": "64b3b965-8f78-4195-ac6e-c7dd75918f78",
   "metadata": {},
   "outputs": [
    {
     "name": "stderr",
     "output_type": "stream",
     "text": [
      "/fsx/users/tcbegley/conda/envs/rl-stable/lib/python3.10/site-packages/tqdm/auto.py:21: TqdmWarning: IProgress not found. Please update jupyter and ipywidgets. See https://ipywidgets.readthedocs.io/en/stable/user_install.html\n",
      "  from .autonotebook import tqdm as notebook_tqdm\n"
     ]
    }
   ],
   "source": [
    "from datasets import load_dataset\n",
    "from transformers import GPT2LMHeadModel, GPT2Tokenizer, GenerationConfig"
   ]
  },
  {
   "cell_type": "code",
   "execution_count": 2,
   "id": "3f64ca97-f991-4ccb-9bce-a0a4c7cc3c84",
   "metadata": {},
   "outputs": [],
   "source": [
    "tokenizer = GPT2Tokenizer.from_pretrained(\"gpt2\")\n",
    "tokenizer.pad_token = tokenizer.eos_token"
   ]
  },
  {
   "cell_type": "code",
   "execution_count": 3,
   "id": "82fffd7f-4754-4e03-8518-6ad250581089",
   "metadata": {},
   "outputs": [],
   "source": [
    "model = GPT2LMHeadModel.from_pretrained(\"out_rlhf\").eval().to(\"cuda\")"
   ]
  },
  {
   "cell_type": "code",
   "execution_count": 4,
   "id": "f4a2a0ff-a876-47f2-a76d-e597372cd288",
   "metadata": {},
   "outputs": [
    {
     "name": "stderr",
     "output_type": "stream",
     "text": [
      "Found cached dataset parquet (/data/home/tcbegley/.cache/huggingface/datasets/CarperAI___parquet/CarperAI--openai_summarize_tldr-536d9955f5e6f921/0.0.0/2a3b91fbd88a2c90d1dbbb32b460cf621d31bd5b05b934492fdef7d8d6f236ec)\n"
     ]
    }
   ],
   "source": [
    "dataset = load_dataset(\"CarperAI/openai_summarize_tldr\", split=\"test\")"
   ]
  },
  {
   "cell_type": "code",
   "execution_count": 5,
   "id": "b2917d3d-f9b2-4f5e-9857-853c11c56bc1",
   "metadata": {},
   "outputs": [],
   "source": [
    "generation_config = GenerationConfig(\n",
    "    max_new_tokens=50,\n",
    "    eos_token_id=tokenizer.eos_token_id,\n",
    "    pad_token_id=tokenizer.eos_token_id,\n",
    ")"
   ]
  },
  {
   "cell_type": "code",
   "execution_count": 10,
   "id": "aa85b9df-dad8-4ea7-8d76-18317cea02cd",
   "metadata": {},
   "outputs": [
    {
     "name": "stdout",
     "output_type": "stream",
     "text": [
      "Query: \n",
      "SUBREDDIT: r/relationships\n",
      "TITLE: My (20M) disinterest in sex is really hurting my girlfriend (19F) of 3 years\n",
      "POST: My girlfriend and I started as a long distance relationship when we were in high school. We met three times over the years, each time for about a week, before moving in together during the beginning of this year. Initially, our sex life was pretty great. We had sex all the time and everything was fine. Lately, though, I've been wanting to less and less and it's really hurting her self esteem and making her feel like I'm unattracted to her. \n",
      "\n",
      "This may get a bit graphic, I just want to let you guys know why I'm not really that into it anymore in the hopes that you'll have some kind of advice as to what I can do. So generally, when we begin having sex, it's awesome. But after about a minute or so, it's like my dick goes numb. It makes it very difficult to stay into it, even though I enjoy pleasuring her. This makes me kind of dread having sex because I know it'll just end up being me trying everything I can do to make her feel good, while I'm just kind of there wishing it'd be over. Lately, we probably only have sex about once or twice a week, which is really messing with her self esteem issues. I feel awful everytime she tries to initiate it, because I just really don't want to and I know it'll end up making her feel awful. \n",
      "\n",
      "I have no idea what to do. I should probably just suck it up and do it for her. I've tried talking to her about it, but she takes it all so personally. Maybe it's just the way I phrase it. Are there any ways I can make myself more interested in having sex?\n",
      "TL;DR: \n",
      "Generated: \n",
      "\n",
      "\n",
      "I'm not really into sex anymore. I'm just not into it anymore. I'm just not into it anymore. I'm just not into it anymore. I'm just not into it anymore. I'm just not into it anymore.\n",
      "True label: \n",
      "I don't really enjoy sex anymore, and it's having a serious effect on my girlfriend's self esteem. How can I make myself more interested?\n",
      "====================================================\n",
      "\n"
     ]
    }
   ],
   "source": [
    "example = dataset[42]\n",
    "tokenized_prompt = tokenizer(example[\"prompt\"], return_tensors=\"pt\").to(\"cuda\")\n",
    "\n",
    "res = model.generate(\n",
    "    **tokenized_prompt,\n",
    "    generation_config=generation_config,\n",
    ")\n",
    "\n",
    "string_to_write = (\n",
    "    \"Query: \\n\"\n",
    "    f\"{example['prompt']}\\n\"\n",
    "    f\"Generated: \\n\"\n",
    "    f\"{tokenizer.decode(res[0, len(tokenized_prompt['input_ids'][0]):].cpu().numpy().tolist())}\\n\"\n",
    "    f\"True label: \\n\"\n",
    "    f\"{example['label']}\\n\"\n",
    "    f\"====================================================\\n\"\n",
    ")\n",
    "print(string_to_write)"
   ]
  },
  {
   "cell_type": "code",
   "execution_count": null,
   "id": "fdb7a387-969c-4d32-84a6-5dbabe0a2069",
   "metadata": {},
   "outputs": [],
   "source": []
  }
 ],
 "metadata": {
  "kernelspec": {
   "display_name": "Python 3 (ipykernel)",
   "language": "python",
   "name": "python3"
  },
  "language_info": {
   "codemirror_mode": {
    "name": "ipython",
    "version": 3
   },
   "file_extension": ".py",
   "mimetype": "text/x-python",
   "name": "python",
   "nbconvert_exporter": "python",
   "pygments_lexer": "ipython3",
   "version": "3.10.11"
  }
 },
 "nbformat": 4,
 "nbformat_minor": 5
}
