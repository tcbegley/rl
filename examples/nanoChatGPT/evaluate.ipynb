{
 "cells": [
  {
   "cell_type": "code",
   "execution_count": null,
   "id": "64b3b965-8f78-4195-ac6e-c7dd75918f78",
   "metadata": {},
   "outputs": [],
   "source": [
    "from datasets import load_dataset\n",
    "from transformers import GPT2LMHeadModel, GPT2Tokenizer, GenerationConfig"
   ]
  },
  {
   "cell_type": "code",
   "execution_count": null,
   "id": "3f64ca97-f991-4ccb-9bce-a0a4c7cc3c84",
   "metadata": {},
   "outputs": [],
   "source": [
    "tokenizer = GPT2Tokenizer.from_pretrained(\"gpt2\")\n",
    "tokenizer.pad_token = tokenizer.eos_token"
   ]
  },
  {
   "cell_type": "code",
   "execution_count": null,
   "id": "82fffd7f-4754-4e03-8518-6ad250581089",
   "metadata": {},
   "outputs": [],
   "source": [
    "model = GPT2LMHeadModel.from_pretrained(\"out_rlhf\").eval().to(\"cuda\")"
   ]
  },
  {
   "cell_type": "code",
   "execution_count": null,
   "id": "f4a2a0ff-a876-47f2-a76d-e597372cd288",
   "metadata": {},
   "outputs": [],
   "source": [
    "dataset = load_dataset(\"CarperAI/openai_summarize_tldr\", split=\"test\")"
   ]
  },
  {
   "cell_type": "code",
   "execution_count": null,
   "id": "b2917d3d-f9b2-4f5e-9857-853c11c56bc1",
   "metadata": {},
   "outputs": [],
   "source": [
    "generation_config = GenerationConfig(\n",
    "    max_new_tokens=50,\n",
    "    eos_token_id=tokenizer.eos_token_id,\n",
    "    pad_token_id=tokenizer.eos_token_id,\n",
    ")"
   ]
  },
  {
   "cell_type": "code",
   "execution_count": null,
   "id": "aa85b9df-dad8-4ea7-8d76-18317cea02cd",
   "metadata": {},
   "outputs": [],
   "source": [
    "example = dataset[500]\n",
    "tokenized_prompt = tokenizer(example[\"prompt\"], return_tensors=\"pt\").to(\"cuda\")\n",
    "\n",
    "res = model.generate(\n",
    "    **tokenized_prompt,\n",
    "    generation_config=generation_config,\n",
    ")\n",
    "\n",
    "string_to_write = (\n",
    "    \"Query: \\n\"\n",
    "    f\"{example['prompt']}\\n\"\n",
    "    f\"Generated: \\n\"\n",
    "    f\"{tokenizer.decode(res[0, len(tokenized_prompt['input_ids'][0]):].cpu().numpy().tolist())}\\n\"\n",
    "    f\"True label: \\n\"\n",
    "    f\"{example['label']}\\n\"\n",
    "    f\"====================================================\\n\"\n",
    ")\n",
    "print(string_to_write)"
   ]
  },
  {
   "cell_type": "code",
   "execution_count": null,
   "id": "fdb7a387-969c-4d32-84a6-5dbabe0a2069",
   "metadata": {},
   "outputs": [],
   "source": []
  }
 ],
 "metadata": {
  "kernelspec": {
   "display_name": "Python 3 (ipykernel)",
   "language": "python",
   "name": "python3"
  },
  "language_info": {
   "codemirror_mode": {
    "name": "ipython",
    "version": 3
   },
   "file_extension": ".py",
   "mimetype": "text/x-python",
   "name": "python",
   "nbconvert_exporter": "python",
   "pygments_lexer": "ipython3",
   "version": "3.10.11"
  }
 },
 "nbformat": 4,
 "nbformat_minor": 5
}
